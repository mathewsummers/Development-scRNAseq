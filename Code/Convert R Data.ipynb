{
 "cells": [
  {
   "cell_type": "markdown",
   "id": "ec3d010a",
   "metadata": {},
   "source": [
    "## Convert R Data\n",
    "\n",
    "Looking at log-normalized Thalamus scRNA-seq data from Marcus Hooper on 7/5/22. The goal of this notebook is to convert data from R formats into AnnData objects for further analysis. R Data is originally in S4 format (which cannot be loaded by pyreadr), so it's first converted to a .mtx file in RStudio before being loaded here. Original data can be found at: /allen/programs/celltypes/workgroups/mct-t200/marcus/Z_data_analyses/gene_panels/P11_P14_data"
   ]
  },
  {
   "cell_type": "code",
   "execution_count": 119,
   "id": "cefb4c3a",
   "metadata": {},
   "outputs": [],
   "source": [
    "import numpy as np\n",
    "import pandas as pd\n",
    "import anndata as ad\n",
    "import scanpy as sc\n",
    "import scipy.io\n",
    "import scipy.sparse\n",
    "import pyreadr\n",
    "\n",
    "# Read gene names and metadata\n",
    "annoDict = pyreadr.read_r(\"../Data/R Formats/P11_P14_metadata\")\n",
    "metadata = annoDict[None]\n",
    "\n",
    "thGenes = pd.read_feather(\"../Data/gene_names.feather\")\n",
    "thGenes.columns = ['gene'] # Alter dataframe column name"
   ]
  },
  {
   "cell_type": "code",
   "execution_count": 3,
   "id": "b16b0362",
   "metadata": {},
   "outputs": [],
   "source": [
    "# Read sparse data matrix (converted in RStudio from .rda to .mtx) ~15 min\n",
    "logNormCOO = scipy.io.mmread(\"../Data/dev_data.mtx\")"
   ]
  },
  {
   "cell_type": "code",
   "execution_count": 6,
   "id": "fa010ee2",
   "metadata": {},
   "outputs": [],
   "source": [
    "# Tranpose matrix to match AnnData standards (cells x genes), and convert to indexable sparsity format\n",
    "logNormCOO = logNormCOO.transpose()\n",
    "logNormCSR = logNormCOO.tocsr()"
   ]
  },
  {
   "cell_type": "code",
   "execution_count": 10,
   "id": "cbc4fcba",
   "metadata": {},
   "outputs": [],
   "source": [
    "# Construct AnnData object\n",
    "thData = ad.AnnData(logNormCSR, dtype='float32')"
   ]
  },
  {
   "cell_type": "code",
   "execution_count": 129,
   "id": "09e60f36",
   "metadata": {},
   "outputs": [
    {
     "data": {
      "text/plain": [
       "View of AnnData object with n_obs × n_vars = 5 × 1"
      ]
     },
     "execution_count": 129,
     "metadata": {},
     "output_type": "execute_result"
    }
   ],
   "source": [
    "# Make AnnData object indexable by assigning proper names to rows and columns\n",
    "thData.obs_names = metadata[\"sample_id\"]\n",
    "thData.var_names = thGenes['gene']\n",
    "\n",
    "# Example indexing:\n",
    "thData[\"AAACCCAAGCCAACCC-L8TX_210319_01_A07-1157582237\"]\n",
    "thData[0:5,[\"Xkr4\"]]"
   ]
  },
  {
   "cell_type": "code",
   "execution_count": 131,
   "id": "90539a1d",
   "metadata": {},
   "outputs": [],
   "source": [
    "# Need to copy over annotation into AnnData object\n",
    "# Perhaps isn't perfect; didn't copy over every element, and some variable types may be suboptimal\n",
    "thData.obs[\"sample_id\"] = pd.Categorical(metadata[\"sample_id\"])\n",
    "thData.obs[\"umi_counts\"] = np.float32(metadata[\"umi.counts\"])\n",
    "thData.obs[\"gene_counts\"] = np.float32(metadata[\"gene.counts.0\"])\n",
    "thData.obs[\"sex\"] = pd.Categorical(metadata[\"sex\"])\n",
    "thData.obs[\"age\"] = pd.Categorical(metadata[\"age\"])\n",
    "thData.obs[\"donor\"] = pd.Categorical(metadata[\"donor_name\"])\n",
    "thData.obs[\"roi\"] = pd.Categorical(metadata[\"annotated_ROI\"])\n",
    "thData.obs[\"cluster_id\"] = pd.Categorical(metadata[\"cluster_id\"])\n",
    "thData.obs[\"cluster_label\"] = pd.Categorical(metadata[\"cluster_label\"])\n",
    "thData.obs[\"cluster_color\"] = pd.Categorical(metadata[\"cluster_color\"])\n",
    "thData.obs[\"supertype_id\"] = pd.Categorical(metadata[\"supertype_id\"])\n",
    "thData.obs[\"supertype_label\"] = pd.Categorical(metadata[\"supertype_label\"])\n",
    "thData.obs[\"supertype_color\"] = pd.Categorical(metadata[\"supertype_color\"])\n",
    "thData.obs[\"subclass_id\"] = pd.Categorical(metadata[\"subclass_id\"])\n",
    "thData.obs[\"subclass_label\"] = pd.Categorical(metadata[\"subclass_label\"])\n",
    "thData.obs[\"subclass_color\"] = pd.Categorical(metadata[\"subclass_color\"])\n",
    "thData.obs[\"class_id\"] = pd.Categorical(metadata[\"class_id\"])\n",
    "thData.obs[\"class_label\"] = pd.Categorical(metadata[\"class_label\"])\n",
    "thData.obs[\"class_color\"] = pd.Categorical(metadata[\"class_color\"])"
   ]
  },
  {
   "cell_type": "code",
   "execution_count": 132,
   "id": "3e496128",
   "metadata": {},
   "outputs": [],
   "source": [
    "# Save file ~15 min(?)\n",
    "fnResults = \"../Data/devData.h5ad\"\n",
    "thData.write(fnResults)"
   ]
  }
 ],
 "metadata": {
  "kernelspec": {
   "display_name": "Python 3 (ipykernel)",
   "language": "python",
   "name": "python3"
  },
  "language_info": {
   "codemirror_mode": {
    "name": "ipython",
    "version": 3
   },
   "file_extension": ".py",
   "mimetype": "text/x-python",
   "name": "python",
   "nbconvert_exporter": "python",
   "pygments_lexer": "ipython3",
   "version": "3.10.4"
  }
 },
 "nbformat": 4,
 "nbformat_minor": 5
}
