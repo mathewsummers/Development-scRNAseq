{
 "cells": [
  {
   "cell_type": "markdown",
   "id": "93ef2958",
   "metadata": {},
   "source": [
    "## Propose notebook\n",
    "Notebook to implement PROPOSE for gene panel selection"
   ]
  },
  {
   "cell_type": "code",
   "execution_count": 1,
   "id": "2b75e10a",
   "metadata": {},
   "outputs": [
    {
     "name": "stderr",
     "output_type": "stream",
     "text": [
      "/opt/conda/lib/python3.7/site-packages/tqdm/auto.py:22: TqdmWarning: IProgress not found. Please update jupyter and ipywidgets. See https://ipywidgets.readthedocs.io/en/stable/user_install.html\n",
      "  from .autonotebook import tqdm as notebook_tqdm\n"
     ]
    }
   ],
   "source": [
    "import numpy as np\n",
    "import pandas as pd\n",
    "import anndata as ad\n",
    "import scanpy as sc\n",
    "import torch\n",
    "import pickle\n",
    "import numpy as np\n",
    "import torch.nn as nn\n",
    "from propose import PROPOSE, HurdleLoss, ExpressionDataset"
   ]
  },
  {
   "cell_type": "code",
   "execution_count": 2,
   "id": "4d29f3d3",
   "metadata": {},
   "outputs": [
    {
     "name": "stderr",
     "output_type": "stream",
     "text": [
      "/opt/conda/lib/python3.7/site-packages/anndata/_core/anndata.py:121: ImplicitModificationWarning: Transforming to str index.\n",
      "  warnings.warn(\"Transforming to str index.\", ImplicitModificationWarning)\n"
     ]
    }
   ],
   "source": [
    "# Load in pre-processed data from glutamatergic class designation, subclass to all rank_gene_groups already performed\n",
    "gluData = sc.read(\"../Data/clusterData.h5ad\")\n",
    "\n",
    "with open(\"../Data/shortGenes.pickle\", \"rb\") as f:\n",
    "    shortGenes = pickle.load(f)\n",
    "    \n",
    "# Remove genes likely to be too short for MERSCOPE\n",
    "keepGenes = list(set(gluData.var_names) - set(shortGenes))\n",
    "gluData = gluData[:,keepGenes]"
   ]
  },
  {
   "cell_type": "code",
   "execution_count": 3,
   "id": "7c188af6-65a3-4448-a375-9f2dca9ead02",
   "metadata": {},
   "outputs": [],
   "source": [
    "# To use full dataset:\n",
    "binary = (gluData.X.A > 0).astype(np.float32)\n",
    "labelCodes = pd.Categorical(gluData.obs[\"cluster_label\"]).codes"
   ]
  },
  {
   "cell_type": "code",
   "execution_count": 4,
   "id": "cca409e5",
   "metadata": {},
   "outputs": [
    {
     "name": "stdout",
     "output_type": "stream",
     "text": [
      "62784 total examples, 50227 training examples, 6279 validation examples, 6278 test examples\n"
     ]
    }
   ],
   "source": [
    "# For data splitting\n",
    "n = binary.shape[0]\n",
    "n_train = int(0.8 * n)\n",
    "n_test = int(0.1 * n)\n",
    "all_rows = np.arange(n)\n",
    "np.random.seed(0)\n",
    "np.random.shuffle(all_rows)\n",
    "train_inds = all_rows[:n_train]\n",
    "val_inds = all_rows[n_train:-n_test]\n",
    "test_inds = all_rows[-n_test:]\n",
    "print(f'{n} total examples, {len(train_inds)} training examples, {len(val_inds)} validation examples, {len(test_inds)} test examples')"
   ]
  },
  {
   "cell_type": "markdown",
   "id": "9ecbdf49",
   "metadata": {},
   "source": [
    "## Run PROPOSE"
   ]
  },
  {
   "cell_type": "code",
   "execution_count": 5,
   "id": "ddb750ca",
   "metadata": {},
   "outputs": [],
   "source": [
    "# Set up datasets\n",
    "\n",
    "# # Unsupervised version\n",
    "# train_dataset = ExpressionDataset(binary[train_inds], testRaw[train_inds])\n",
    "# val_dataset = ExpressionDataset(binary[val_inds], testRaw[val_inds])\n",
    "\n",
    "# Pre-assigned labels version\n",
    "train_dataset = ExpressionDataset(binary[train_inds], labelCodes[train_inds])\n",
    "val_dataset = ExpressionDataset(binary[val_inds], labelCodes[val_inds])"
   ]
  },
  {
   "cell_type": "code",
   "execution_count": 6,
   "id": "55f78e33-3e16-47e2-a7cb-592cdcbbc53f",
   "metadata": {},
   "outputs": [],
   "source": [
    "# Set up GPU device\n",
    "device = torch.device('cuda')"
   ]
  },
  {
   "cell_type": "code",
   "execution_count": 7,
   "id": "36bfc479",
   "metadata": {},
   "outputs": [],
   "source": [
    "num_genes = [350, 500]\n",
    "propose_results = {}"
   ]
  },
  {
   "cell_type": "code",
   "execution_count": 8,
   "id": "f1b3e4a7",
   "metadata": {
    "tags": []
   },
   "outputs": [
    {
     "name": "stdout",
     "output_type": "stream",
     "text": [
      "using CrossEntropyLoss, starting with lam = 0.0001\n"
     ]
    },
    {
     "name": "stderr",
     "output_type": "stream",
     "text": [
      "Training epochs: 100%|██████████| 600/600 [1:06:26<00:00,  6.64s/it]\n"
     ]
    },
    {
     "name": "stdout",
     "output_type": "stream",
     "text": [
      "lam = 0.000100 yielded 1281 genes\n",
      "Warm starting model for next iteration\n",
      "next attempt is lam = 0.000129\n"
     ]
    },
    {
     "name": "stderr",
     "output_type": "stream",
     "text": [
      "Training epochs: 100%|██████████| 600/600 [1:06:24<00:00,  6.64s/it]\n"
     ]
    },
    {
     "name": "stdout",
     "output_type": "stream",
     "text": [
      "lam = 0.000129 yielded 1160 genes\n",
      "done, lam = 0.000129 yielded 1160 genes\n"
     ]
    }
   ],
   "source": [
    "# Set up selector\n",
    "selector = PROPOSE(train_dataset,\n",
    "                   val_dataset,\n",
    "                   loss_fn=torch.nn.CrossEntropyLoss(),\n",
    "                   device=device,\n",
    "                   hidden=[128, 128])\n",
    "\n",
    "# Eliminate many candidates\n",
    "candidates, model = selector.eliminate(target=1000, mbsize=128, max_nepochs=600)"
   ]
  },
  {
   "cell_type": "code",
   "execution_count": 9,
   "id": "0fec38da-dd9e-48bf-ad33-a829bc61fbc9",
   "metadata": {},
   "outputs": [],
   "source": [
    "candidateGenes = list(gluData.var_names[candidates])\n",
    "with open(\"../Data/filtered_PROPOSE_candidates.pickle\", 'wb') as f:\n",
    "    pickle.dump(candidateGenes, f)"
   ]
  },
  {
   "cell_type": "code",
   "execution_count": null,
   "id": "6469185e-8077-453c-b6ff-2b4a78feb52f",
   "metadata": {},
   "outputs": [],
   "source": [
    "# If something crashes and candidate genes need to be reloaded:\n",
    "\n",
    "with open(\"../Data/filtered_PROPOSE_candidates.pickle\", 'rb') as f:\n",
    "    candidateGenes = pickle.load(f)\n",
    "\n",
    "candidates1 = np.empty(len(candidateGenes), dtype = 'int64')\n",
    "i = 0\n",
    "for gene in candidateGenes:\n",
    "    candidates1[i] = gluData.var_names.get_loc(gene)\n",
    "    i += 1\n",
    "    \n",
    "# Still need to \"set_genes\" within PROPOSE object"
   ]
  },
  {
   "cell_type": "code",
   "execution_count": 10,
   "id": "5cf3e29b-5595-4b85-a11c-aa41db368b90",
   "metadata": {},
   "outputs": [
    {
     "name": "stderr",
     "output_type": "stream",
     "text": [
      "Training epochs: 100%|██████████| 600/600 [1:57:25<00:00, 11.74s/it]\n"
     ]
    },
    {
     "name": "stdout",
     "output_type": "stream",
     "text": [
      "done, selected 350 genes\n"
     ]
    },
    {
     "name": "stderr",
     "output_type": "stream",
     "text": [
      "Training epochs: 100%|██████████| 600/600 [2:43:33<00:00, 16.36s/it]  "
     ]
    },
    {
     "name": "stdout",
     "output_type": "stream",
     "text": [
      "done, selected 500 genes\n"
     ]
    },
    {
     "name": "stderr",
     "output_type": "stream",
     "text": [
      "\n"
     ]
    }
   ],
   "source": [
    "for num in num_genes:\n",
    "    # Select specific number of genes\n",
    "    inds, model = selector.select(num_genes=num, mbsize=128, max_nepochs=600)\n",
    "    propose_results[num] = inds"
   ]
  },
  {
   "cell_type": "code",
   "execution_count": 11,
   "id": "9c1ee2a6-9db1-4a6a-8d38-2bfa8531476c",
   "metadata": {},
   "outputs": [],
   "source": [
    "geneDict = {}\n",
    "for num in num_genes:\n",
    "    candidateGenes = list(gluData.var_names[propose_results[num]])\n",
    "    geneDict[num] = candidateGenes\n",
    "    \n",
    "with open(\"../Data/cluster_markers_propose.pickle\", 'wb') as f:\n",
    "    pickle.dump(geneDict, f)"
   ]
  }
 ],
 "metadata": {
  "environment": {
   "kernel": "python3",
   "name": "pytorch-gpu.1-11.m93",
   "type": "gcloud",
   "uri": "gcr.io/deeplearning-platform-release/pytorch-gpu.1-11:m93"
  },
  "kernelspec": {
   "display_name": "Python 3",
   "language": "python",
   "name": "python3"
  },
  "language_info": {
   "codemirror_mode": {
    "name": "ipython",
    "version": 3
   },
   "file_extension": ".py",
   "mimetype": "text/x-python",
   "name": "python",
   "nbconvert_exporter": "python",
   "pygments_lexer": "ipython3",
   "version": "3.7.12"
  }
 },
 "nbformat": 4,
 "nbformat_minor": 5
}
