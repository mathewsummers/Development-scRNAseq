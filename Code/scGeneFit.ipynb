{
 "cells": [
  {
   "cell_type": "markdown",
   "id": "39c2f0e9",
   "metadata": {},
   "source": [
    "## scGeneFit\n",
    "Notebook to try and implement scGeneFit method of finding informative marker genes. scGeneFit finds an N dimensional projection of the data, where each subspace dimension aligns with a dimension of the original data - thus corresponding to single genes, and not linear combinations of many genes.  \n",
    "\n",
    "https://www.nature.com/articles/s41467-021-21453-4#Sec9\n"
   ]
  },
  {
   "cell_type": "code",
   "execution_count": 1,
   "id": "9b73000f",
   "metadata": {},
   "outputs": [],
   "source": [
    "import scGeneFit.functions as gf\n",
    "import numpy as np\n",
    "import pandas as pd\n",
    "import anndata as ad\n",
    "import scanpy as sc\n",
    "import scipy.io\n",
    "import scipy.sparse\n",
    "import matplotlib.pyplot as plt\n",
    "import pickle\n",
    "import json\n",
    "\n",
    "np.random.seed(0)"
   ]
  },
  {
   "cell_type": "markdown",
   "id": "4bd25199",
   "metadata": {},
   "source": [
    "## Cluster level gene panel"
   ]
  },
  {
   "cell_type": "code",
   "execution_count": 2,
   "id": "56cae0d3",
   "metadata": {},
   "outputs": [
    {
     "name": "stderr",
     "output_type": "stream",
     "text": [
      "/opt/conda/lib/python3.7/site-packages/anndata/_core/anndata.py:121: ImplicitModificationWarning: Transforming to str index.\n",
      "  warnings.warn(\"Transforming to str index.\", ImplicitModificationWarning)\n"
     ]
    }
   ],
   "source": [
    "#Load data\n",
    "gluData = sc.read(\"../Data/clusterData.h5ad\")"
   ]
  },
  {
   "cell_type": "code",
   "execution_count": 3,
   "id": "5fccbaec-58e6-4ae3-a71e-71c6552a89af",
   "metadata": {},
   "outputs": [],
   "source": [
    "# Don't want to select from unsuitable genes, so load list of genes that are suspected to be unsuitable for MERSCOPE\n",
    "with open(\"../Data/badGenes.json\", \"r\") as f:\n",
    "    badGenes = json.load(f)\n",
    "    \n",
    "# Remove genes from AnnData object\n",
    "keepGenes = list(set(gluData.var_names) - set(badGenes))\n",
    "gluData = gluData[:,keepGenes]"
   ]
  },
  {
   "cell_type": "code",
   "execution_count": 4,
   "id": "c421fc5e-606c-4d80-be09-07030c6e5e0b",
   "metadata": {},
   "outputs": [],
   "source": [
    "clusterData = gluData.X.toarray()\n",
    "clusterLabel = gluData.obs[\"cluster_label\"]"
   ]
  },
  {
   "cell_type": "code",
   "execution_count": 5,
   "id": "04d6d96e-01fe-4647-9223-4f1dd73449c3",
   "metadata": {},
   "outputs": [
    {
     "name": "stdout",
     "output_type": "stream",
     "text": [
      "Starting  350  marker run\n",
      "Solving a linear program with 26572 variables and 1000 constraints\n",
      "Time elapsed: 31779.09667444229 seconds\n",
      "Starting  500  marker run\n",
      "Solving a linear program with 26572 variables and 1000 constraints\n",
      "Time elapsed: 26955.354702949524 seconds\n"
     ]
    }
   ],
   "source": [
    "# Really sloppy setup for an overnight run:\n",
    "method = \"centers\"\n",
    "redundancy = 0.2\n",
    "\n",
    "num_genes = [350, 500]\n",
    "scGeneFit_results = {}\n",
    "\n",
    "for num in num_genes:\n",
    "    print(\"Starting \", num, \" marker run\")\n",
    "    scGeneFit_results[num] = gf.get_markers(clusterData,clusterLabel,num, method = method, redundancy = redundancy)"
   ]
  },
  {
   "cell_type": "code",
   "execution_count": 20,
   "id": "b04424d8-26e8-428e-8430-fa3bb15d31e0",
   "metadata": {},
   "outputs": [],
   "source": [
    "# Save results as gene names\n",
    "geneDict = {}\n",
    "for key in scGeneFit_results.keys():\n",
    "    geneDict[key] = list(gluData.var_names[scGeneFit_results[key]])\n",
    "\n",
    "with open(\"../Data/scGeneFit_p11_p14_panel.pickle\", 'wb') as f:\n",
    "    pickle.dump(geneDict, f)"
   ]
  }
 ],
 "metadata": {
  "environment": {
   "kernel": "python3",
   "name": "pytorch-gpu.1-11.m93",
   "type": "gcloud",
   "uri": "gcr.io/deeplearning-platform-release/pytorch-gpu.1-11:m93"
  },
  "kernelspec": {
   "display_name": "Python 3 (ipykernel)",
   "language": "python",
   "name": "python3"
  },
  "language_info": {
   "codemirror_mode": {
    "name": "ipython",
    "version": 3
   },
   "file_extension": ".py",
   "mimetype": "text/x-python",
   "name": "python",
   "nbconvert_exporter": "python",
   "pygments_lexer": "ipython3",
   "version": "3.10.4"
  }
 },
 "nbformat": 4,
 "nbformat_minor": 5
}
