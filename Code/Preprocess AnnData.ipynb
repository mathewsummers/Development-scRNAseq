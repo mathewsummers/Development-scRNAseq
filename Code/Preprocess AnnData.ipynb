{
 "cells": [
  {
   "cell_type": "markdown",
   "id": "d5bef346",
   "metadata": {},
   "source": [
    "## Preprocess AnnData\n",
    "\n",
    "Notebook to pre-process "
   ]
  },
  {
   "cell_type": "code",
   "execution_count": 2,
   "id": "b5971b2e",
   "metadata": {},
   "outputs": [],
   "source": [
    "import numpy as np\n",
    "import pandas as pd\n",
    "import anndata as ad\n",
    "import scanpy as sc"
   ]
  },
  {
   "cell_type": "code",
   "execution_count": 4,
   "id": "951b7f80",
   "metadata": {},
   "outputs": [
    {
     "name": "stderr",
     "output_type": "stream",
     "text": [
      "C:\\Users\\mathew.summers\\Anaconda3\\envs\\scanpy1.9\\lib\\site-packages\\anndata\\_core\\anndata.py:121: ImplicitModificationWarning: Transforming to str index.\n",
      "  warnings.warn(\"Transforming to str index.\", ImplicitModificationWarning)\n"
     ]
    }
   ],
   "source": [
    "# Load in AnnData object\n",
    "devData = sc.read(\"../Data/devData.h5ad\")"
   ]
  },
  {
   "cell_type": "code",
   "execution_count": 5,
   "id": "11a67b65",
   "metadata": {},
   "outputs": [
    {
     "data": {
      "text/plain": [
       "['Glutamatergic', 'Non_neuronal', 'GABAergic']\n",
       "Categories (3, object): ['GABAergic', 'Glutamatergic', 'Non_neuronal']"
      ]
     },
     "execution_count": 5,
     "metadata": {},
     "output_type": "execute_result"
    }
   ],
   "source": [
    "# Compute highly variable genes (Seurat package) ~25 min\n",
    "sc.pp.highly_variable_genes(thData)"
   ]
  },
  {
   "cell_type": "code",
   "execution_count": null,
   "id": "f81a4377",
   "metadata": {},
   "outputs": [],
   "source": []
  },
  {
   "cell_type": "code",
   "execution_count": null,
   "id": "81233963",
   "metadata": {},
   "outputs": [],
   "source": []
  },
  {
   "cell_type": "code",
   "execution_count": null,
   "id": "9d0d75cf",
   "metadata": {},
   "outputs": [],
   "source": []
  },
  {
   "cell_type": "code",
   "execution_count": null,
   "id": "825128a4",
   "metadata": {},
   "outputs": [],
   "source": [
    "# Save file ~15 min(?)\n",
    "fnResults = \"../Data/devData.h5ad\"\n",
    "thData.write(fnResults)"
   ]
  }
 ],
 "metadata": {
  "kernelspec": {
   "display_name": "Python 3 (ipykernel)",
   "language": "python",
   "name": "python3"
  },
  "language_info": {
   "codemirror_mode": {
    "name": "ipython",
    "version": 3
   },
   "file_extension": ".py",
   "mimetype": "text/x-python",
   "name": "python",
   "nbconvert_exporter": "python",
   "pygments_lexer": "ipython3",
   "version": "3.10.4"
  }
 },
 "nbformat": 4,
 "nbformat_minor": 5
}
